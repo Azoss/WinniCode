{
  "nbformat": 4,
  "nbformat_minor": 0,
  "metadata": {
    "colab": {
      "provenance": []
    },
    "kernelspec": {
      "name": "python3",
      "display_name": "Python 3"
    },
    "language_info": {
      "name": "python"
    }
  },
  "cells": [
    {
      "cell_type": "code",
      "execution_count": null,
      "metadata": {
        "id": "uhHWRpLoOkEZ"
      },
      "outputs": [],
      "source": [
        "import pandas as pd\n",
        "import re\n",
        "import seaborn as sns\n",
        "import matplotlib.pylot as plt"
      ]
    },
    {
      "cell_type": "code",
      "source": [
        "df = pd.read_csv(\"\")\n",
        "df.head"
      ],
      "metadata": {
        "id": "P3O6lBmMOtkS"
      },
      "execution_count": null,
      "outputs": []
    },
    {
      "cell_type": "markdown",
      "source": [
        "# 1. Cleaning Data"
      ],
      "metadata": {
        "id": "mQneaOJdOx8B"
      }
    },
    {
      "cell_type": "markdown",
      "source": [
        "mengambil kriteria yang diperlukan"
      ],
      "metadata": {
        "id": "Krpl7dz3QC4D"
      }
    },
    {
      "cell_type": "code",
      "source": [
        "df = df[['full_text', 'username', 'created_at']]\n",
        "df.shape"
      ],
      "metadata": {
        "id": "b80auKGNO9Fr"
      },
      "execution_count": null,
      "outputs": []
    },
    {
      "cell_type": "markdown",
      "source": [
        "menampilkan dan menghapus data duplicate"
      ],
      "metadata": {
        "id": "sc9SlZ3zP-K0"
      }
    },
    {
      "cell_type": "code",
      "source": [
        "df.duplicated().sum()\n",
        "df = df.drop_duplicates(subset=['full_text'])"
      ],
      "metadata": {
        "id": "qnfQYyzPPg5u"
      },
      "execution_count": null,
      "outputs": []
    },
    {
      "cell_type": "markdown",
      "source": [
        "Melihat apakah ada data yang duplicate"
      ],
      "metadata": {
        "id": "HbGA44U9P5Us"
      }
    },
    {
      "cell_type": "code",
      "source": [
        "df.duplicated().sum()"
      ],
      "metadata": {
        "id": "dEKy-_S8Pn2I"
      },
      "execution_count": null,
      "outputs": []
    },
    {
      "cell_type": "markdown",
      "source": [
        "Mengecek variabel yang kosong"
      ],
      "metadata": {
        "id": "8IuIva8cP1z0"
      }
    },
    {
      "cell_type": "code",
      "source": [
        "df.isnull().sum()\n",
        "df.shape"
      ],
      "metadata": {
        "id": "ayA98qxLPq8m"
      },
      "execution_count": null,
      "outputs": []
    },
    {
      "cell_type": "code",
      "source": [
        "def clean_twitter_text(text):\n",
        "  text = re.sub(r'@[A-Za-z0-9_]+', '', text) #Menghapus mention\n",
        "  text = re.sub(r'#\\w+', '', text) #Menghapus HasTag\n",
        "  text = re.sub(r'RT[\\s]+', '', text) #Menghapus repeat\n",
        "  text = re.sub(r'https?://\\S+', '', text) #Menghapus URL\n",
        "  text = re.sub(r'[A-Za-z0-9 ]', '', text) #Menghapus karakter Non-AlfaNumeric\n",
        "  text = re.sub(r'\\s+', '', text).strip() #Menghapus space yg leih dari 1\n",
        "\n",
        "  return text\n",
        "\n",
        "df ['full_text'] = df['full_text'].apply(clean_twitter_text)"
      ],
      "metadata": {
        "colab": {
          "base_uri": "https://localhost:8080/",
          "height": 176
        },
        "id": "bm1dTcHXQTKw",
        "outputId": "c867b399-0d46-4b03-99ab-748a363ae1b5"
      },
      "execution_count": null,
      "outputs": [
        {
          "output_type": "error",
          "ename": "NameError",
          "evalue": "name 'df' is not defined",
          "traceback": [
            "\u001b[0;31m---------------------------------------------------------------------------\u001b[0m",
            "\u001b[0;31mNameError\u001b[0m                                 Traceback (most recent call last)",
            "\u001b[0;32m<ipython-input-2-2cb4ab187818>\u001b[0m in \u001b[0;36m<cell line: 12>\u001b[0;34m()\u001b[0m\n\u001b[1;32m     10\u001b[0m   \u001b[0;32mreturn\u001b[0m \u001b[0mtext\u001b[0m\u001b[0;34m\u001b[0m\u001b[0;34m\u001b[0m\u001b[0m\n\u001b[1;32m     11\u001b[0m \u001b[0;34m\u001b[0m\u001b[0m\n\u001b[0;32m---> 12\u001b[0;31m \u001b[0mdf\u001b[0m \u001b[0;34m[\u001b[0m\u001b[0;34m'full_text'\u001b[0m\u001b[0;34m]\u001b[0m \u001b[0;34m=\u001b[0m \u001b[0mdf\u001b[0m\u001b[0;34m[\u001b[0m\u001b[0;34m'full_text'\u001b[0m\u001b[0;34m]\u001b[0m\u001b[0;34m.\u001b[0m\u001b[0mapply\u001b[0m\u001b[0;34m(\u001b[0m\u001b[0mclean_twitter_text\u001b[0m\u001b[0;34m)\u001b[0m\u001b[0;34m\u001b[0m\u001b[0;34m\u001b[0m\u001b[0m\n\u001b[0m",
            "\u001b[0;31mNameError\u001b[0m: name 'df' is not defined"
          ]
        }
      ]
    },
    {
      "cell_type": "code",
      "source": [
        "df['full_text'] = df['full_text'].str.lower() # Mengubah kata menjadi lower case"
      ],
      "metadata": {
        "id": "d-z1-_fpQ36S"
      },
      "execution_count": null,
      "outputs": []
    },
    {
      "cell_type": "markdown",
      "source": [
        "# Preprocessing :\n",
        "*   Normalisasi\n",
        "*   Stopword\n",
        "*   Tokenize\n",
        "*   Stemming\n",
        "\n",
        "\n",
        "\n"
      ],
      "metadata": {
        "id": "_pTogpQgT6xk"
      }
    },
    {
      "cell_type": "code",
      "source": [
        "norm = {\" yg\" }"
      ],
      "metadata": {
        "id": "SQqzyzZgUM4P"
      },
      "execution_count": null,
      "outputs": []
    }
  ]
}